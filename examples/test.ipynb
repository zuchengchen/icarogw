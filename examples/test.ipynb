{
 "cells": [
  {
   "cell_type": "code",
   "execution_count": null,
   "metadata": {},
   "outputs": [],
   "source": [
    "m1pr = _cmp.PowerLawGaussian_math(\n",
    "    alpha=-alpha,\n",
    "    min_pl=mmin,\n",
    "    max_pl=mmax,\n",
    "    lambda_g=lambda_peak,\n",
    "    mean_g=mu_g,\n",
    "    sigma_g=sigma_g,\n",
    "    min_g=mmin,\n",
    "    max_g=mu_g + 5 * sigma_g,\n",
    ")\n",
    "m2pr = _cmp.PowerLaw_math(alpha=beta, min_pl=mmin, max_pl=m1pr.maximum)\n",
    "\n",
    "# Smooth the lower end of these distributions\n",
    "dist = {\n",
    "    \"mass_1\": _cmp.SmoothedProb(origin_prob=m1pr, bottom=mmin, bottom_smooth=delta_m),\n",
    "    \"mass_2\": _cmp.SmoothedProb(origin_prob=m2pr, bottom=mmin, bottom_smooth=delta_m),\n",
    "}\n"
   ]
  },
  {
   "cell_type": "code",
   "execution_count": null,
   "metadata": {},
   "outputs": [],
   "source": [
    "class log_madau_rate(object):\n",
    "    def __init__(self, gamma, kappa, zp):\n",
    "        self.gamma = gamma\n",
    "        self.kappa = kappa\n",
    "        self.zp = zp\n",
    "\n",
    "    def __call__(self, z):\n",
    "        return (\n",
    "            _np.log1p(_np.power(1 + self.zp, -self.gamma - self.kappa))\n",
    "            + self.gamma * _np.log1p(z)\n",
    "            - _np.log1p(_np.power((1 + z) / (1 + self.zp), self.gamma + self.kappa))\n",
    "        )"
   ]
  },
  {
   "cell_type": "code",
   "execution_count": null,
   "metadata": {},
   "outputs": [],
   "source": [
    "class redshift_prior(object):\n",
    "\n",
    "    def log_prob(self, z_vals):\n",
    "\n",
    "            gamma = dic_param[\"gamma\"]\n",
    "            zp = dic_param[\"zp\"]\n",
    "            kappa = dic_param[\"kappa\"]\n",
    "        self.log_rate_eval = log_madau_rate(gamma, kappa, zp)\n",
    "        return (\n",
    "            _np.log(self.cosmo.dVc_by_dz(z_vals))\n",
    "            - _np.log1p(z_vals)\n",
    "            + self.log_rate_eval(z_vals)\n",
    "            \n",
    "        )"
   ]
  }
 ],
 "metadata": {
  "kernelspec": {
   "display_name": "icarogw",
   "language": "python",
   "name": "python3"
  },
  "language_info": {
   "name": "python",
   "version": "3.9.2 (default, Mar  3 2021, 20:02:32) \n[GCC 7.3.0]"
  },
  "orig_nbformat": 4,
  "vscode": {
   "interpreter": {
    "hash": "1ba079d526c86c6775639b1cc90cfc51858b9a262af76409f12f323923b94d0f"
   }
  }
 },
 "nbformat": 4,
 "nbformat_minor": 2
}
