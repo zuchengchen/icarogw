{
 "cells": [
  {
   "cell_type": "code",
   "execution_count": 1,
   "metadata": {
    "Collapsed": "false"
   },
   "outputs": [],
   "source": [
    "import icarogw\n",
    "import os\n",
    "import bilby\n",
    "import corner\n",
    "import pickle\n",
    "import h5py\n",
    "import matplotlib.pyplot as plt\n",
    "import numpy as np\n",
    "from icarogw.posterior_samples import posterior_samples\n",
    "from icarogw.analyses.cosmo_pop_rate_marginalized import hierarchical_analysis2\n",
    "from icarogw.utils.quick_init import initialize_prior_dict2\n",
    "from icarogw.injections import injections_at_detector2\n",
    "\n",
    "injections0 = pickle.load(open(\n",
    "    \"/home/czc/projects/working/LIGO_posterior/O1_O2_O3_det_frame_SNR9.inj\", \"rb\"))\n",
    "\n",
    "injections = injections_at_detector2(injections0)\n"
   ]
  },
  {
   "cell_type": "code",
   "execution_count": 2,
   "metadata": {},
   "outputs": [
    {
     "name": "stdout",
     "output_type": "stream",
     "text": [
      "GW150914\n",
      "Using Overall_posterior posterior with a total of 8350 samples\n",
      "GW151226\n",
      "Using Overall_posterior posterior with a total of 52252 samples\n",
      "GW170104\n",
      "Using Overall_posterior posterior with a total of 24972 samples\n",
      "GW170608\n",
      "Using Overall_posterior posterior with a total of 6448 samples\n",
      "GW170809\n",
      "Using Overall_posterior posterior with a total of 14802 samples\n",
      "GW170814\n",
      "Using Overall_posterior posterior with a total of 40000 samples\n",
      "GW170818\n",
      "Using Overall_posterior posterior with a total of 5862 samples\n",
      "GW170823\n",
      "Using Overall_posterior posterior with a total of 4278 samples\n",
      "GW190408_181802\n",
      "Using PublicationSamples posterior with a total of 37366 samples\n",
      "GW190412\n",
      "Using PublicationSamples posterior with a total of 23984 samples\n",
      "GW190503_185404\n",
      "Using PublicationSamples posterior with a total of 37669 samples\n",
      "GW190512_180714\n",
      "Using PublicationSamples posterior with a total of 37247 samples\n",
      "GW190513_205428\n",
      "Using PublicationSamples posterior with a total of 39072 samples\n",
      "GW190517_055101\n",
      "Using PublicationSamples posterior with a total of 36932 samples\n",
      "GW190519_153544\n",
      "Using PublicationSamples posterior with a total of 39976 samples\n",
      "GW190521\n",
      "Using PublicationSamples posterior with a total of 59466 samples\n",
      "GW190521_074359\n",
      "Using PublicationSamples posterior with a total of 39836 samples\n",
      "GW190602_175927\n",
      "Using PublicationSamples posterior with a total of 39996 samples\n",
      "GW190630_185205\n",
      "Using PublicationSamples posterior with a total of 38720 samples\n",
      "GW190701_203306\n",
      "Using PublicationSamples posterior with a total of 39996 samples\n",
      "GW190706_222641\n",
      "Using PublicationSamples posterior with a total of 36176 samples\n",
      "GW190707_093326\n",
      "Using PublicationSamples posterior with a total of 65206 samples\n",
      "GW190708_232457\n",
      "Using PublicationSamples posterior with a total of 37981 samples\n",
      "GW190720_000836\n",
      "Using PublicationSamples posterior with a total of 61046 samples\n",
      "GW190727_060333\n",
      "Using PublicationSamples posterior with a total of 35709 samples\n",
      "GW190728_064510\n",
      "Using PublicationSamples posterior with a total of 74128 samples\n",
      "GW190828_063405\n",
      "Using PublicationSamples posterior with a total of 39692 samples\n",
      "GW190828_065509\n",
      "Using PublicationSamples posterior with a total of 19991 samples\n",
      "GW190910_112807\n",
      "Using PublicationSamples posterior with a total of 37784 samples\n",
      "GW190915_235702\n",
      "Using PublicationSamples posterior with a total of 75256 samples\n",
      "GW190924_021846\n",
      "Using PublicationSamples posterior with a total of 57284 samples\n",
      "GW191109_010717\n",
      "Using C01:Mixed posterior with a total of 85416 samples\n",
      "GW191129_134029\n",
      "Using C01:Mixed posterior with a total of 41494 samples\n",
      "GW191204_171526\n",
      "Using C01:Mixed posterior with a total of 27704 samples\n",
      "GW191216_213338\n",
      "Using C01:Mixed posterior with a total of 17792 samples\n",
      "GW191222_033537\n",
      "Using C01:Mixed posterior with a total of 43168 samples\n",
      "GW200112_155838\n",
      "Using C01:Mixed posterior with a total of 9898 samples\n",
      "GW200129_065458\n",
      "Using C01:Mixed posterior with a total of 3194 samples\n",
      "GW200202_154313\n",
      "Using C01:Mixed posterior with a total of 56226 samples\n",
      "GW200224_222234\n",
      "Using C01:Mixed posterior with a total of 27066 samples\n",
      "GW200225_060421\n",
      "Using C01:Mixed posterior with a total of 38484 samples\n",
      "GW200311_115853\n",
      "Using C01:Mixed posterior with a total of 36982 samples\n",
      "Using 42 events.\n"
     ]
    }
   ],
   "source": [
    "# Read the posterior samples\n",
    "posterior_dict = {}\n",
    "base_dir = \"/home/czc/projects/working/LIGO_posterior\"\n",
    "\n",
    "list_evO1O2 = icarogw.utils.quick_init.initialize_events_dict(\n",
    "    runs=['O1', 'O2'], type=['BBH', 'SPECIAL'], snr_cut=11)\n",
    "for event in list(list_evO1O2.keys()):\n",
    "    print(event)\n",
    "    filename = f\"{base_dir}/GWTC-1/{event}_GWTC-1.hdf5\"\n",
    "    pos_samples = posterior_samples(filename)\n",
    "    posterior_dict[event] = pos_samples\n",
    "\n",
    "list_evO3a = icarogw.utils.quick_init.initialize_events_dict(\n",
    "    runs=['O3a'], type=['BBH', 'SPECIAL'], snr_cut=11)\n",
    "for event in list(list_evO3a.keys()):\n",
    "    if event != 'GW190814':\n",
    "        print(event)\n",
    "        filename = f\"{base_dir}/GWTC-2/{event}.h5\"\n",
    "        pos_samples = posterior_samples(filename)\n",
    "        posterior_dict[event] = pos_samples\n",
    "\n",
    "list_evO3b = icarogw.utils.quick_init.initialize_events_dict(\n",
    "    runs=['O3b'], type=['BBH', 'SPECIAL'], snr_cut=11)\n",
    "for event in list(list_evO3b.keys()):\n",
    "    print(event)\n",
    "    filename = f\"{base_dir}/GWTC-3/IGWN-GWTC3p0-v1-{event}_PEDataRelease_mixed_nocosmo.h5\"\n",
    "    pos_samples = posterior_samples(filename, waveform='C01:Mixed')\n",
    "    posterior_dict[event] = pos_samples\n",
    "\n",
    "print(f\"Using {len(posterior_dict)} events.\")"
   ]
  },
  {
   "cell_type": "code",
   "execution_count": 3,
   "metadata": {},
   "outputs": [
    {
     "name": "stdout",
     "output_type": "stream",
     "text": [
      "Selecting injections with SNR 11.000000 and IFAR 0.000000 yr\n"
     ]
    }
   ],
   "source": [
    "population_model = \"PBH-lognormal-1st\"\n",
    "cosmology_model = 'flatLCDM'\n",
    "outdir = f'H0_GWTC-3_{population_model}_{cosmology_model}_4/'\n",
    "injections.update_cut(snr_cut=11, ifar_cut=0) # We are going to update the injections with the new SNR cut to 12"
   ]
  },
  {
   "cell_type": "code",
   "execution_count": 4,
   "metadata": {
    "Collapsed": "false"
   },
   "outputs": [
    {
     "data": {
      "text/plain": [
       "{'mc': Uniform(minimum=5.0, maximum=50.0, name='$M_c$', latex_label='$M_c$', unit=None, boundary=None),\n",
       " 'σc': Uniform(minimum=0.1, maximum=2, name='$\\\\sigma_c$', latex_label='$\\\\sigma_c$', unit=None, boundary=None),\n",
       " 'log_fpbh': Uniform(minimum=-4.0, maximum=0.0, name='$log_{fpbh}$', latex_label='$log_{fpbh}$', unit=None, boundary=None),\n",
       " 'H0': 67.4,\n",
       " 'Om0': 0.315}"
      ]
     },
     "execution_count": 4,
     "metadata": {},
     "output_type": "execute_result"
    }
   ],
   "source": [
    "# Setup the priors here. We are going to sample on just H0 and the maximum BH mass for a powerlaw model, just to speed up the code and fixing all the parameters\n",
    "prior_dict = initialize_prior_dict2(population_model, cosmology_model)\n",
    "\n",
    "prior_dict['H0'] = 67.4\n",
    "prior_dict['Om0'] = 0.315\n",
    "# prior_dict['σc'] = 0.5\n",
    "\n",
    "# prior_dict[\"kappa\"] = bilby.core.prior.Uniform(-6, 6, name='kappa')\n",
    "# prior_dict[\"mmax\"] = bilby.core.prior.Uniform(-6, 6, name='kappa')\n",
    "\n",
    "prior_dict\n"
   ]
  },
  {
   "cell_type": "code",
   "execution_count": 5,
   "metadata": {
    "Collapsed": "false"
   },
   "outputs": [
    {
     "name": "stderr",
     "output_type": "stream",
     "text": [
      "20:56 bilby INFO    : Running for label 'dynesty', output will be saved to 'H0_GWTC-3_PBH-lognormal-1st_flatLCDM_4/'\n",
      "20:56 bilby INFO    : Search parameters:\n",
      "20:56 bilby INFO    :   mc = Uniform(minimum=5.0, maximum=50.0, name='$M_c$', latex_label='$M_c$', unit=None, boundary=None)\n",
      "20:56 bilby INFO    :   σc = Uniform(minimum=0.1, maximum=2, name='$\\\\sigma_c$', latex_label='$\\\\sigma_c$', unit=None, boundary=None)\n",
      "20:56 bilby INFO    :   log_fpbh = Uniform(minimum=-4.0, maximum=0.0, name='$log_{fpbh}$', latex_label='$log_{fpbh}$', unit=None, boundary=None)\n",
      "20:56 bilby INFO    :   H0 = 67.4\n",
      "20:56 bilby INFO    :   Om0 = 0.315\n"
     ]
    },
    {
     "name": "stdout",
     "output_type": "stream",
     "text": [
      "Using the parallel mode with 2000 samples\n"
     ]
    },
    {
     "name": "stderr",
     "output_type": "stream",
     "text": [
      "/home/czc/opt/miniconda3/envs/icarogw/lib/python3.9/site-packages/icarogw-1.0.5-py3.9.egg/icarogw/priors/population.py:56: RuntimeWarning: divide by zero encountered in log\n",
      "20:56 bilby INFO    : Single likelihood evaluation took 6.134e-02 s\n"
     ]
    },
    {
     "name": "stdout",
     "output_type": "stream",
     "text": [
      "0it [00:00, ?it/s]"
     ]
    },
    {
     "name": "stderr",
     "output_type": "stream",
     "text": [
      "20:56 bilby INFO    : Using sampler Dynesty with kwargs {'bound': 'multi', 'sample': 'rwalk', 'verbose': True, 'periodic': None, 'reflective': None, 'check_point_delta_t': 600, 'nlive': 500, 'first_update': None, 'walks': 20, 'npdim': None, 'rstate': None, 'queue_size': 32, 'pool': None, 'use_pool': None, 'live_points': None, 'logl_args': None, 'logl_kwargs': None, 'ptform_args': None, 'ptform_kwargs': None, 'enlarge': 1.5, 'bootstrap': None, 'vol_dec': 0.5, 'vol_check': 8.0, 'facc': 0.2, 'slices': 5, 'update_interval': 300, 'print_func': <bound method Dynesty._print_func of <bilby.core.sampler.dynesty.Dynesty object at 0x7f373f4c7be0>>, 'dlogz': 0.1, 'maxiter': None, 'maxcall': None, 'logl_max': inf, 'add_live': True, 'print_progress': True, 'save_bounds': False, 'n_effective': None, 'maxmcmc': 5000, 'nact': 2}\n",
      "20:56 bilby INFO    : Checkpoint every check_point_delta_t = 60s\n",
      "20:56 bilby INFO    : Using dynesty version 1.0.1\n",
      "20:56 bilby INFO    : Using the bilby-implemented rwalk sample method with ACT estimated walks\n",
      "20:56 bilby INFO    : Setting up multiproccesing pool with 32 processes.\n",
      "20:56 bilby INFO    : Resume file H0_GWTC-3_PBH-lognormal-1st_flatLCDM_4//dynesty_resume.pickle does not exist.\n",
      "20:56 bilby INFO    : Generating initial points from the prior\n"
     ]
    },
    {
     "name": "stdout",
     "output_type": "stream",
     "text": [
      "1721it [02:04, 12.86it/s, bound:0 nc:  4 ncall:1.5e+04 eff:11.7% logz=-1078.51+/-0.14 dlogz:27.604>0.1]    "
     ]
    },
    {
     "name": "stderr",
     "output_type": "stream",
     "text": [
      "20:58 bilby INFO    : Written checkpoint file H0_GWTC-3_PBH-lognormal-1st_flatLCDM_4//dynesty_resume.pickle\n",
      "/home/czc/opt/miniconda3/envs/icarogw/lib/python3.9/site-packages/dynesty/plotting.py:245: UserWarning: Attempting to set identical bottom == top == 0.0 results in singular transformations; automatically expanding.\n",
      "  axes[i].set_ylim([ymin, ymax])\n"
     ]
    },
    {
     "name": "stdout",
     "output_type": "stream",
     "text": [
      "2151it [03:07,  7.97it/s, bound:34 nc: 31 ncall:2.9e+04 eff:7.5% logz=-1069.40+/-0.15 dlogz:17.889>0.1]"
     ]
    },
    {
     "name": "stderr",
     "output_type": "stream",
     "text": [
      "20:59 bilby INFO    : Written checkpoint file H0_GWTC-3_PBH-lognormal-1st_flatLCDM_4//dynesty_resume.pickle\n",
      "/home/czc/opt/miniconda3/envs/icarogw/lib/python3.9/site-packages/dynesty/plotting.py:245: UserWarning: Attempting to set identical bottom == top == 0.0 results in singular transformations; automatically expanding.\n",
      "  axes[i].set_ylim([ymin, ymax])\n"
     ]
    },
    {
     "name": "stdout",
     "output_type": "stream",
     "text": [
      "2598it [04:10,  6.92it/s, bound:83 nc: 34 ncall:4.5e+04 eff:5.8% logz=-1063.97+/-0.15 dlogz:11.593>0.1]"
     ]
    },
    {
     "name": "stderr",
     "output_type": "stream",
     "text": [
      "21:00 bilby INFO    : Written checkpoint file H0_GWTC-3_PBH-lognormal-1st_flatLCDM_4//dynesty_resume.pickle\n",
      "/home/czc/opt/miniconda3/envs/icarogw/lib/python3.9/site-packages/dynesty/plotting.py:245: UserWarning: Attempting to set identical bottom == top == 0.0 results in singular transformations; automatically expanding.\n",
      "  axes[i].set_ylim([ymin, ymax])\n"
     ]
    },
    {
     "name": "stdout",
     "output_type": "stream",
     "text": [
      "2998it [05:12,  6.64it/s, bound:132 nc: 39 ncall:6.0e+04 eff:5.0% logz=-1060.85+/-0.16 dlogz:7.664>0.1]"
     ]
    },
    {
     "name": "stderr",
     "output_type": "stream",
     "text": [
      "21:01 bilby INFO    : Written checkpoint file H0_GWTC-3_PBH-lognormal-1st_flatLCDM_4//dynesty_resume.pickle\n",
      "/home/czc/opt/miniconda3/envs/icarogw/lib/python3.9/site-packages/dynesty/plotting.py:245: UserWarning: Attempting to set identical bottom == top == 0.0 results in singular transformations; automatically expanding.\n",
      "  axes[i].set_ylim([ymin, ymax])\n"
     ]
    },
    {
     "name": "stdout",
     "output_type": "stream",
     "text": [
      "3390it [06:16,  6.37it/s, bound:183 nc: 40 ncall:7.7e+04 eff:4.4% logz=-1058.48+/-0.16 dlogz:4.966>0.1]"
     ]
    },
    {
     "name": "stderr",
     "output_type": "stream",
     "text": [
      "21:02 bilby INFO    : Written checkpoint file H0_GWTC-3_PBH-lognormal-1st_flatLCDM_4//dynesty_resume.pickle\n",
      "/home/czc/opt/miniconda3/envs/icarogw/lib/python3.9/site-packages/dynesty/plotting.py:245: UserWarning: Attempting to set identical bottom == top == 0.0 results in singular transformations; automatically expanding.\n",
      "  axes[i].set_ylim([ymin, ymax])\n"
     ]
    },
    {
     "name": "stdout",
     "output_type": "stream",
     "text": [
      "3779it [07:20,  6.11it/s, bound:235 nc: 80 ncall:9.4e+04 eff:4.0% logz=-1057.07+/-0.16 dlogz:2.831>0.1]"
     ]
    },
    {
     "name": "stderr",
     "output_type": "stream",
     "text": [
      "21:03 bilby INFO    : Written checkpoint file H0_GWTC-3_PBH-lognormal-1st_flatLCDM_4//dynesty_resume.pickle\n",
      "21:03 bilby INFO    : Writing 170 current samples to H0_GWTC-3_PBH-lognormal-1st_flatLCDM_4//dynesty_samples.dat\n",
      "/home/czc/opt/miniconda3/envs/icarogw/lib/python3.9/site-packages/dynesty/plotting.py:245: UserWarning: Attempting to set identical bottom == top == 0.0 results in singular transformations; automatically expanding.\n",
      "  axes[i].set_ylim([ymin, ymax])\n"
     ]
    },
    {
     "name": "stdout",
     "output_type": "stream",
     "text": [
      "4173it [08:24,  6.39it/s, bound:287 nc: 40 ncall:1.1e+05 eff:3.8% logz=-1056.24+/-0.17 dlogz:1.426>0.1]"
     ]
    },
    {
     "name": "stderr",
     "output_type": "stream",
     "text": [
      "21:05 bilby INFO    : Written checkpoint file H0_GWTC-3_PBH-lognormal-1st_flatLCDM_4//dynesty_resume.pickle\n",
      "21:05 bilby INFO    : Writing 398 current samples to H0_GWTC-3_PBH-lognormal-1st_flatLCDM_4//dynesty_samples.dat\n",
      "/home/czc/opt/miniconda3/envs/icarogw/lib/python3.9/site-packages/dynesty/plotting.py:245: UserWarning: Attempting to set identical bottom == top == 0.0 results in singular transformations; automatically expanding.\n",
      "  axes[i].set_ylim([ymin, ymax])\n"
     ]
    },
    {
     "name": "stdout",
     "output_type": "stream",
     "text": [
      "4573it [09:28,  6.48it/s, bound:339 nc: 40 ncall:1.3e+05 eff:3.6% logz=-1055.79+/-0.17 dlogz:0.652>0.1]"
     ]
    },
    {
     "name": "stderr",
     "output_type": "stream",
     "text": [
      "21:06 bilby INFO    : Written checkpoint file H0_GWTC-3_PBH-lognormal-1st_flatLCDM_4//dynesty_resume.pickle\n",
      "21:06 bilby INFO    : Writing 864 current samples to H0_GWTC-3_PBH-lognormal-1st_flatLCDM_4//dynesty_samples.dat\n",
      "/home/czc/opt/miniconda3/envs/icarogw/lib/python3.9/site-packages/dynesty/plotting.py:245: UserWarning: Attempting to set identical bottom == top == 0.0 results in singular transformations; automatically expanding.\n",
      "  axes[i].set_ylim([ymin, ymax])\n"
     ]
    },
    {
     "name": "stdout",
     "output_type": "stream",
     "text": [
      "4972it [10:32,  6.50it/s, bound:391 nc: 40 ncall:1.4e+05 eff:3.5% logz=-1055.56+/-0.17 dlogz:0.285>0.1]"
     ]
    },
    {
     "name": "stderr",
     "output_type": "stream",
     "text": [
      "21:07 bilby INFO    : Written checkpoint file H0_GWTC-3_PBH-lognormal-1st_flatLCDM_4//dynesty_resume.pickle\n",
      "21:07 bilby INFO    : Writing 1573 current samples to H0_GWTC-3_PBH-lognormal-1st_flatLCDM_4//dynesty_samples.dat\n",
      "/home/czc/opt/miniconda3/envs/icarogw/lib/python3.9/site-packages/dynesty/plotting.py:245: UserWarning: Attempting to set identical bottom == top == 0.0 results in singular transformations; automatically expanding.\n",
      "  axes[i].set_ylim([ymin, ymax])\n"
     ]
    },
    {
     "name": "stdout",
     "output_type": "stream",
     "text": [
      "5375it [11:37,  6.56it/s, bound:443 nc: 40 ncall:1.6e+05 eff:3.4% logz=-1055.45+/-0.17 dlogz:0.124>0.1]"
     ]
    },
    {
     "name": "stderr",
     "output_type": "stream",
     "text": [
      "21:08 bilby INFO    : Written checkpoint file H0_GWTC-3_PBH-lognormal-1st_flatLCDM_4//dynesty_resume.pickle\n",
      "21:08 bilby INFO    : Writing 1569 current samples to H0_GWTC-3_PBH-lognormal-1st_flatLCDM_4//dynesty_samples.dat\n",
      "/home/czc/opt/miniconda3/envs/icarogw/lib/python3.9/site-packages/dynesty/plotting.py:245: UserWarning: Attempting to set identical bottom == top == 0.0 results in singular transformations; automatically expanding.\n",
      "  axes[i].set_ylim([ymin, ymax])\n"
     ]
    },
    {
     "name": "stdout",
     "output_type": "stream",
     "text": [
      "5467it [11:54,  6.05it/s, bound:454 nc: 40 ncall:1.6e+05 eff:3.3% logz=-1055.43+/-0.17 dlogz:0.103>0.1]"
     ]
    },
    {
     "name": "stderr",
     "output_type": "stream",
     "text": [
      "21:08 bilby INFO    : Written checkpoint file H0_GWTC-3_PBH-lognormal-1st_flatLCDM_4//dynesty_resume.pickle\n",
      "21:08 bilby INFO    : Writing 1596 current samples to H0_GWTC-3_PBH-lognormal-1st_flatLCDM_4//dynesty_samples.dat\n",
      "/home/czc/opt/miniconda3/envs/icarogw/lib/python3.9/site-packages/dynesty/plotting.py:245: UserWarning: Attempting to set identical bottom == top == 0.0 results in singular transformations; automatically expanding.\n",
      "  axes[i].set_ylim([ymin, ymax])\n",
      "21:08 bilby INFO    : Starting to close worker pool.\n",
      "21:08 bilby INFO    : Finished closing worker pool.\n"
     ]
    },
    {
     "name": "stdout",
     "output_type": "stream",
     "text": [
      "5479it [11:56,  7.65it/s, bound:456 nc:  1 ncall:1.6e+05 eff:3.6% logz=-1055.34+/-0.17 dlogz:0.000>0.1]\n",
      "\n"
     ]
    },
    {
     "name": "stderr",
     "output_type": "stream",
     "text": [
      "21:08 bilby INFO    : Sampling time: 0:10:53.406593\n",
      "21:08 bilby INFO    : Summary of results:\n",
      "nsamples: 5979\n",
      "ln_noise_evidence:    nan\n",
      "ln_evidence: -1055.343 +/-  0.171\n",
      "ln_bayes_factor:    nan +/-  0.171\n",
      "\n"
     ]
    },
    {
     "data": {
      "image/png": "[encoded data removed]",
      "text/plain": [
       "<Figure size 547.2x547.2 with 9 Axes>"
      ]
     },
     "execution_count": 5,
     "metadata": {},
     "output_type": "execute_result"
    }
   ],
   "source": [
    "analysis = hierarchical_analysis2(posterior_dict, injections, fixed_cosmo=True)\n",
    "\n",
    "# Run bilby.  Here we will be using emcee\n",
    "result = analysis.run_bilby(population_model, cosmology_model, prior_dict, nlive=500, nact=2, walks=20,\n",
    "                            outdir=outdir, label='dynesty', npool=32, parallel=2000, check_point_delta_t=60)\n",
    "result.plot_corner()\n"
   ]
  },
  {
   "cell_type": "code",
   "execution_count": null,
   "metadata": {},
   "outputs": [],
   "source": []
  }
 ],
 "metadata": {
  "kernelspec": {
   "display_name": "icarogw",
   "language": "python",
   "name": "icarogw"
  },
  "language_info": {
   "codemirror_mode": {
    "name": "ipython",
    "version": 3
   },
   "file_extension": ".py",
   "mimetype": "text/x-python",
   "name": "python",
   "nbconvert_exporter": "python",
   "pygments_lexer": "ipython3",
   "version": "3.9.2"
  }
 },
 "nbformat": 4,
 "nbformat_minor": 4
}
