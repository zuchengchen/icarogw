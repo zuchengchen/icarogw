{
 "cells": [
  {
   "cell_type": "code",
   "execution_count": 1,
   "metadata": {
    "Collapsed": "false"
   },
   "outputs": [],
   "source": [
    "import icarogw\n",
    "import os\n",
    "import bilby\n",
    "import corner\n",
    "import pickle\n",
    "import h5py\n",
    "import matplotlib.pyplot as plt\n",
    "import numpy as np\n",
    "from icarogw.posterior_samples import posterior_samples\n",
    "from icarogw.analyses.cosmo_pop_rate_marginalized import hierarchical_analysis2\n",
    "from icarogw.utils.quick_init import initialize_prior_dict2\n",
    "from icarogw.injections import injections_at_detector2\n",
    "\n",
    "injections0 = pickle.load(open(\n",
    "    \"/home/czc/projects/working/LIGO_posterior/O1_O2_O3_det_frame_SNR9.inj\", \"rb\"))\n",
    "\n",
    "injections = injections_at_detector2(injections0)"
   ]
  },
  {
   "cell_type": "code",
   "execution_count": 2,
   "metadata": {},
   "outputs": [
    {
     "name": "stdout",
     "output_type": "stream",
     "text": [
      "GW150914\n",
      "Using Overall_posterior posterior with a total of 8350 samples\n",
      "GW151226\n",
      "Using Overall_posterior posterior with a total of 52252 samples\n",
      "GW170104\n",
      "Using Overall_posterior posterior with a total of 24972 samples\n",
      "GW170608\n",
      "Using Overall_posterior posterior with a total of 6448 samples\n",
      "GW170809\n",
      "Using Overall_posterior posterior with a total of 14802 samples\n",
      "GW170814\n",
      "Using Overall_posterior posterior with a total of 40000 samples\n",
      "GW170818\n",
      "Using Overall_posterior posterior with a total of 5862 samples\n",
      "GW170823\n",
      "Using Overall_posterior posterior with a total of 4278 samples\n",
      "GW190408_181802\n",
      "Using PublicationSamples posterior with a total of 37366 samples\n",
      "GW190412\n",
      "Using PublicationSamples posterior with a total of 23984 samples\n",
      "GW190503_185404\n",
      "Using PublicationSamples posterior with a total of 37669 samples\n",
      "GW190512_180714\n",
      "Using PublicationSamples posterior with a total of 37247 samples\n",
      "GW190513_205428\n",
      "Using PublicationSamples posterior with a total of 39072 samples\n",
      "GW190517_055101\n",
      "Using PublicationSamples posterior with a total of 36932 samples\n",
      "GW190519_153544\n",
      "Using PublicationSamples posterior with a total of 39976 samples\n",
      "GW190521\n",
      "Using PublicationSamples posterior with a total of 59466 samples\n",
      "GW190521_074359\n",
      "Using PublicationSamples posterior with a total of 39836 samples\n",
      "GW190602_175927\n",
      "Using PublicationSamples posterior with a total of 39996 samples\n",
      "GW190630_185205\n",
      "Using PublicationSamples posterior with a total of 38720 samples\n",
      "GW190701_203306\n",
      "Using PublicationSamples posterior with a total of 39996 samples\n",
      "GW190706_222641\n",
      "Using PublicationSamples posterior with a total of 36176 samples\n",
      "GW190707_093326\n",
      "Using PublicationSamples posterior with a total of 65206 samples\n",
      "GW190708_232457\n",
      "Using PublicationSamples posterior with a total of 37981 samples\n",
      "GW190720_000836\n",
      "Using PublicationSamples posterior with a total of 61046 samples\n",
      "GW190727_060333\n",
      "Using PublicationSamples posterior with a total of 35709 samples\n",
      "GW190728_064510\n",
      "Using PublicationSamples posterior with a total of 74128 samples\n",
      "GW190828_063405\n",
      "Using PublicationSamples posterior with a total of 39692 samples\n",
      "GW190828_065509\n",
      "Using PublicationSamples posterior with a total of 19991 samples\n",
      "GW190910_112807\n",
      "Using PublicationSamples posterior with a total of 37784 samples\n",
      "GW190915_235702\n",
      "Using PublicationSamples posterior with a total of 75256 samples\n",
      "GW190924_021846\n",
      "Using PublicationSamples posterior with a total of 57284 samples\n",
      "GW191109_010717\n",
      "Using C01:Mixed posterior with a total of 85416 samples\n",
      "GW191129_134029\n",
      "Using C01:Mixed posterior with a total of 41494 samples\n",
      "GW191204_171526\n",
      "Using C01:Mixed posterior with a total of 27704 samples\n",
      "GW191216_213338\n",
      "Using C01:Mixed posterior with a total of 17792 samples\n",
      "GW191222_033537\n",
      "Using C01:Mixed posterior with a total of 43168 samples\n",
      "GW200112_155838\n",
      "Using C01:Mixed posterior with a total of 9898 samples\n",
      "GW200129_065458\n",
      "Using C01:Mixed posterior with a total of 3194 samples\n",
      "GW200202_154313\n",
      "Using C01:Mixed posterior with a total of 56226 samples\n",
      "GW200224_222234\n",
      "Using C01:Mixed posterior with a total of 27066 samples\n",
      "GW200225_060421\n",
      "Using C01:Mixed posterior with a total of 38484 samples\n",
      "GW200311_115853\n",
      "Using C01:Mixed posterior with a total of 36982 samples\n",
      "Using 42 events.\n"
     ]
    }
   ],
   "source": [
    "# Read the posterior samples\n",
    "posterior_dict = {}\n",
    "base_dir = \"/home/czc/projects/working/LIGO_posterior\"\n",
    "\n",
    "list_evO1O2 = icarogw.utils.quick_init.initialize_events_dict(\n",
    "    runs=['O1', 'O2'], type=['BBH', 'SPECIAL'], snr_cut=11)\n",
    "for event in list(list_evO1O2.keys()):\n",
    "    print(event)\n",
    "    filename = f\"{base_dir}/GWTC-1/{event}_GWTC-1.hdf5\"\n",
    "    pos_samples = posterior_samples(filename)\n",
    "    posterior_dict[event] = pos_samples\n",
    "\n",
    "list_evO3a = icarogw.utils.quick_init.initialize_events_dict(\n",
    "    runs=['O3a'], type=['BBH', 'SPECIAL'], snr_cut=11)\n",
    "for event in list(list_evO3a.keys()):\n",
    "    if event != 'GW190814':\n",
    "        print(event)\n",
    "        filename = f\"{base_dir}/GWTC-2/{event}.h5\"\n",
    "        pos_samples = posterior_samples(filename)\n",
    "        posterior_dict[event] = pos_samples\n",
    "\n",
    "list_evO3b = icarogw.utils.quick_init.initialize_events_dict(\n",
    "    runs=['O3b'], type=['BBH', 'SPECIAL'], snr_cut=11)\n",
    "for event in list(list_evO3b.keys()):\n",
    "    print(event)\n",
    "    filename = f\"{base_dir}/GWTC-3/IGWN-GWTC3p0-v1-{event}_PEDataRelease_mixed_nocosmo.h5\"\n",
    "    pos_samples = posterior_samples(filename, waveform='C01:Mixed')\n",
    "    posterior_dict[event] = pos_samples\n",
    "\n",
    "print(f\"Using {len(posterior_dict)} events.\")"
   ]
  },
  {
   "cell_type": "code",
   "execution_count": 3,
   "metadata": {},
   "outputs": [
    {
     "name": "stdout",
     "output_type": "stream",
     "text": [
      "Selecting injections with SNR 11.000000 and IFAR 0.000000 yr\n"
     ]
    }
   ],
   "source": [
    "population_model = \"PBH-lognormal-2nd\"\n",
    "cosmology_model = 'flatLCDM'\n",
    "outdir = f'H0_GWTC-3_{population_model}_{cosmology_model}_2/'\n",
    "injections.update_cut(snr_cut=11, ifar_cut=0) # We are going to update the injections with the new SNR cut to 12"
   ]
  },
  {
   "cell_type": "code",
   "execution_count": 4,
   "metadata": {
    "Collapsed": "false"
   },
   "outputs": [
    {
     "data": {
      "text/plain": [
       "{'mc': Uniform(minimum=5.0, maximum=50.0, name='$M_c$', latex_label='$M_c$', unit=None, boundary=None),\n",
       " 'σc': Uniform(minimum=0.1, maximum=2, name='$\\\\sigma_c$', latex_label='$\\\\sigma_c$', unit=None, boundary=None),\n",
       " 'log_fpbh': Uniform(minimum=-4.0, maximum=0.0, name='$\\\\log_{fpbh}$', latex_label='$\\\\log_{fpbh}$', unit=None, boundary=None),\n",
       " 'H0': 67.4,\n",
       " 'Om0': 0.315}"
      ]
     },
     "execution_count": 4,
     "metadata": {},
     "output_type": "execute_result"
    }
   ],
   "source": [
    "# Setup the priors here. We are going to sample on just H0 and the maximum BH mass for a powerlaw model, just to speed up the code and fixing all the parameters\n",
    "prior_dict = initialize_prior_dict2(population_model, cosmology_model)\n",
    "\n",
    "prior_dict['H0'] = 67.4\n",
    "prior_dict['Om0'] = 0.315\n",
    "# prior_dict['σc'] = 0.5\n",
    "\n",
    "# prior_dict[\"kappa\"] = bilby.core.prior.Uniform(-6, 6, name='kappa')\n",
    "# prior_dict[\"mmax\"] = bilby.core.prior.Uniform(-6, 6, name='kappa')\n",
    "\n",
    "prior_dict\n"
   ]
  },
  {
   "cell_type": "code",
   "execution_count": 5,
   "metadata": {
    "Collapsed": "false"
   },
   "outputs": [
    {
     "name": "stderr",
     "output_type": "stream",
     "text": [
      "21:11 bilby INFO    : Running for label 'dynesty', output will be saved to 'H0_GWTC-3_PBH-lognormal-2nd_flatLCDM_2/'\n",
      "21:11 bilby INFO    : Search parameters:\n",
      "21:11 bilby INFO    :   mc = Uniform(minimum=5.0, maximum=50.0, name='$M_c$', latex_label='$M_c$', unit=None, boundary=None)\n",
      "21:11 bilby INFO    :   σc = Uniform(minimum=0.1, maximum=2, name='$\\\\sigma_c$', latex_label='$\\\\sigma_c$', unit=None, boundary=None)\n",
      "21:11 bilby INFO    :   log_fpbh = Uniform(minimum=-4.0, maximum=0.0, name='$\\\\log_{fpbh}$', latex_label='$\\\\log_{fpbh}$', unit=None, boundary=None)\n",
      "21:11 bilby INFO    :   H0 = 67.4\n",
      "21:11 bilby INFO    :   Om0 = 0.315\n"
     ]
    },
    {
     "name": "stdout",
     "output_type": "stream",
     "text": [
      "Using the parallel mode with 2000 samples\n"
     ]
    },
    {
     "name": "stderr",
     "output_type": "stream",
     "text": [
      "/home/czc/opt/miniconda3/envs/icarogw/lib/python3.9/site-packages/icarogw-1.0.5-py3.9.egg/icarogw/priors/population.py:71: RuntimeWarning: divide by zero encountered in log\n",
      "21:11 bilby INFO    : Single likelihood evaluation took 3.667e-01 s\n"
     ]
    },
    {
     "name": "stdout",
     "output_type": "stream",
     "text": [
      "0it [00:00, ?it/s]"
     ]
    },
    {
     "name": "stderr",
     "output_type": "stream",
     "text": [
      "21:11 bilby INFO    : Using sampler Dynesty with kwargs {'bound': 'multi', 'sample': 'rwalk', 'verbose': True, 'periodic': None, 'reflective': None, 'check_point_delta_t': 600, 'nlive': 500, 'first_update': None, 'walks': 20, 'npdim': None, 'rstate': None, 'queue_size': 32, 'pool': None, 'use_pool': None, 'live_points': None, 'logl_args': None, 'logl_kwargs': None, 'ptform_args': None, 'ptform_kwargs': None, 'enlarge': 1.5, 'bootstrap': None, 'vol_dec': 0.5, 'vol_check': 8.0, 'facc': 0.2, 'slices': 5, 'update_interval': 300, 'print_func': <bound method Dynesty._print_func of <bilby.core.sampler.dynesty.Dynesty object at 0x7fb3d09e5ca0>>, 'dlogz': 0.1, 'maxiter': None, 'maxcall': None, 'logl_max': inf, 'add_live': True, 'print_progress': True, 'save_bounds': False, 'n_effective': None, 'maxmcmc': 5000, 'nact': 2}\n",
      "21:11 bilby INFO    : Checkpoint every check_point_delta_t = 60s\n",
      "21:11 bilby INFO    : Using dynesty version 1.0.1\n",
      "21:11 bilby INFO    : Using the bilby-implemented rwalk sample method with ACT estimated walks\n",
      "21:11 bilby INFO    : Setting up multiproccesing pool with 32 processes.\n",
      "21:11 bilby INFO    : Resume file H0_GWTC-3_PBH-lognormal-2nd_flatLCDM_2//dynesty_resume.pickle does not exist.\n",
      "21:11 bilby INFO    : Generating initial points from the prior\n"
     ]
    },
    {
     "name": "stdout",
     "output_type": "stream",
     "text": [
      "1006it [07:06,  7.78it/s, bound:0 nc:  3 ncall:3.5e+03 eff:28.7% logz=-1121.48+/-0.14 dlogz:70.496>0.1]    "
     ]
    },
    {
     "name": "stderr",
     "output_type": "stream",
     "text": [
      "21:18 bilby INFO    : Written checkpoint file H0_GWTC-3_PBH-lognormal-2nd_flatLCDM_2//dynesty_resume.pickle\n",
      "/home/czc/opt/miniconda3/envs/icarogw/lib/python3.9/site-packages/dynesty/plotting.py:245: UserWarning: Attempting to set identical bottom == top == 0.0 results in singular transformations; automatically expanding.\n",
      "  axes[i].set_ylim([ymin, ymax])\n"
     ]
    },
    {
     "name": "stdout",
     "output_type": "stream",
     "text": [
      "1301it [08:14,  3.42it/s, bound:0 nc:  6 ncall:6.5e+03 eff:20.0% logz=-1100.00+/-0.14 dlogz:50.138>0.1]"
     ]
    },
    {
     "name": "stderr",
     "output_type": "stream",
     "text": [
      "21:20 bilby INFO    : Written checkpoint file H0_GWTC-3_PBH-lognormal-2nd_flatLCDM_2//dynesty_resume.pickle\n",
      "/home/czc/opt/miniconda3/envs/icarogw/lib/python3.9/site-packages/dynesty/plotting.py:245: UserWarning: Attempting to set identical bottom == top == 0.0 results in singular transformations; automatically expanding.\n",
      "  axes[i].set_ylim([ymin, ymax])\n"
     ]
    },
    {
     "name": "stdout",
     "output_type": "stream",
     "text": [
      "1499it [09:22,  3.30it/s, bound:0 nc: 10 ncall:9.5e+03 eff:15.7% logz=-1090.22+/-0.14 dlogz:40.236>0.1]"
     ]
    },
    {
     "name": "stderr",
     "output_type": "stream",
     "text": [
      "21:21 bilby INFO    : Written checkpoint file H0_GWTC-3_PBH-lognormal-2nd_flatLCDM_2//dynesty_resume.pickle\n",
      "/home/czc/opt/miniconda3/envs/icarogw/lib/python3.9/site-packages/dynesty/plotting.py:245: UserWarning: Attempting to set identical bottom == top == 0.0 results in singular transformations; automatically expanding.\n",
      "  axes[i].set_ylim([ymin, ymax])\n"
     ]
    },
    {
     "name": "stdout",
     "output_type": "stream",
     "text": [
      "1613it [10:31,  2.59it/s, bound:0 nc: 25 ncall:1.3e+04 eff:12.8% logz=-1085.41+/-0.14 dlogz:35.194>0.1]"
     ]
    },
    {
     "name": "stderr",
     "output_type": "stream",
     "text": [
      "21:22 bilby INFO    : Written checkpoint file H0_GWTC-3_PBH-lognormal-2nd_flatLCDM_2//dynesty_resume.pickle\n",
      "/home/czc/opt/miniconda3/envs/icarogw/lib/python3.9/site-packages/dynesty/plotting.py:245: UserWarning: Attempting to set identical bottom == top == 0.0 results in singular transformations; automatically expanding.\n",
      "  axes[i].set_ylim([ymin, ymax])\n"
     ]
    },
    {
     "name": "stdout",
     "output_type": "stream",
     "text": [
      "1738it [11:40,  2.24it/s, bound:0 nc: 53 ncall:1.6e+04 eff:11.1% logz=-1081.45+/-0.14 dlogz:30.968>0.1]"
     ]
    },
    {
     "name": "stderr",
     "output_type": "stream",
     "text": [
      "21:23 bilby INFO    : Written checkpoint file H0_GWTC-3_PBH-lognormal-2nd_flatLCDM_2//dynesty_resume.pickle\n",
      "/home/czc/opt/miniconda3/envs/icarogw/lib/python3.9/site-packages/dynesty/plotting.py:245: UserWarning: Attempting to set identical bottom == top == 0.0 results in singular transformations; automatically expanding.\n",
      "  axes[i].set_ylim([ymin, ymax])\n"
     ]
    },
    {
     "name": "stdout",
     "output_type": "stream",
     "text": [
      "1817it [13:01,  3.59s/it, bound:1 nc: 36 ncall:1.8e+04 eff:10.0% logz=-1079.30+/-0.14 dlogz:28.658>0.1]"
     ]
    },
    {
     "name": "stderr",
     "output_type": "stream",
     "text": [
      "21:24 bilby INFO    : Written checkpoint file H0_GWTC-3_PBH-lognormal-2nd_flatLCDM_2//dynesty_resume.pickle\n",
      "/home/czc/opt/miniconda3/envs/icarogw/lib/python3.9/site-packages/dynesty/plotting.py:245: UserWarning: Attempting to set identical bottom == top == 0.0 results in singular transformations; automatically expanding.\n",
      "  axes[i].set_ylim([ymin, ymax])\n"
     ]
    },
    {
     "name": "stdout",
     "output_type": "stream",
     "text": [
      "1910it [14:08,  1.22it/s, bound:11 nc: 31 ncall:2.1e+04 eff:8.9% logz=-1076.57+/-0.15 dlogz:26.084>0.1]"
     ]
    },
    {
     "name": "stderr",
     "output_type": "stream",
     "text": [
      "21:25 bilby INFO    : Written checkpoint file H0_GWTC-3_PBH-lognormal-2nd_flatLCDM_2//dynesty_resume.pickle\n",
      "/home/czc/opt/miniconda3/envs/icarogw/lib/python3.9/site-packages/dynesty/plotting.py:245: UserWarning: Attempting to set identical bottom == top == 0.0 results in singular transformations; automatically expanding.\n",
      "  axes[i].set_ylim([ymin, ymax])\n"
     ]
    },
    {
     "name": "stdout",
     "output_type": "stream",
     "text": [
      "2004it [15:15,  1.36it/s, bound:21 nc: 31 ncall:2.5e+04 eff:8.2% logz=-1074.25+/-0.15 dlogz:23.566>0.1]"
     ]
    },
    {
     "name": "stderr",
     "output_type": "stream",
     "text": [
      "21:27 bilby INFO    : Written checkpoint file H0_GWTC-3_PBH-lognormal-2nd_flatLCDM_2//dynesty_resume.pickle\n",
      "/home/czc/opt/miniconda3/envs/icarogw/lib/python3.9/site-packages/dynesty/plotting.py:245: UserWarning: Attempting to set identical bottom == top == 0.0 results in singular transformations; automatically expanding.\n",
      "  axes[i].set_ylim([ymin, ymax])\n"
     ]
    },
    {
     "name": "stdout",
     "output_type": "stream",
     "text": [
      "2088it [16:18,  1.33it/s, bound:30 nc: 30 ncall:2.7e+04 eff:7.6% logz=-1072.13+/-0.15 dlogz:21.278>0.1]"
     ]
    },
    {
     "name": "stderr",
     "output_type": "stream",
     "text": [
      "21:28 bilby INFO    : Written checkpoint file H0_GWTC-3_PBH-lognormal-2nd_flatLCDM_2//dynesty_resume.pickle\n",
      "/home/czc/opt/miniconda3/envs/icarogw/lib/python3.9/site-packages/dynesty/plotting.py:245: UserWarning: Attempting to set identical bottom == top == 0.0 results in singular transformations; automatically expanding.\n",
      "  axes[i].set_ylim([ymin, ymax])\n"
     ]
    },
    {
     "name": "stdout",
     "output_type": "stream",
     "text": [
      "2173it [17:24,  1.26it/s, bound:39 nc: 26 ncall:3.0e+04 eff:7.1% logz=-1070.37+/-0.15 dlogz:19.343>0.1]"
     ]
    },
    {
     "name": "stderr",
     "output_type": "stream",
     "text": [
      "21:29 bilby INFO    : Written checkpoint file H0_GWTC-3_PBH-lognormal-2nd_flatLCDM_2//dynesty_resume.pickle\n",
      "/home/czc/opt/miniconda3/envs/icarogw/lib/python3.9/site-packages/dynesty/plotting.py:245: UserWarning: Attempting to set identical bottom == top == 0.0 results in singular transformations; automatically expanding.\n",
      "  axes[i].set_ylim([ymin, ymax])\n"
     ]
    },
    {
     "name": "stdout",
     "output_type": "stream",
     "text": [
      "2263it [18:31,  1.30it/s, bound:49 nc: 34 ncall:3.3e+04 eff:6.8% logz=-1068.76+/-0.15 dlogz:17.561>0.1]"
     ]
    },
    {
     "name": "stderr",
     "output_type": "stream",
     "text": [
      "21:30 bilby INFO    : Written checkpoint file H0_GWTC-3_PBH-lognormal-2nd_flatLCDM_2//dynesty_resume.pickle\n",
      "/home/czc/opt/miniconda3/envs/icarogw/lib/python3.9/site-packages/dynesty/plotting.py:245: UserWarning: Attempting to set identical bottom == top == 0.0 results in singular transformations; automatically expanding.\n",
      "  axes[i].set_ylim([ymin, ymax])\n"
     ]
    },
    {
     "name": "stdout",
     "output_type": "stream",
     "text": [
      "2351it [19:40,  1.23it/s, bound:59 nc: 39 ncall:3.7e+04 eff:6.4% logz=-1067.17+/-0.15 dlogz:15.791>0.1]"
     ]
    },
    {
     "name": "stderr",
     "output_type": "stream",
     "text": [
      "21:31 bilby INFO    : Written checkpoint file H0_GWTC-3_PBH-lognormal-2nd_flatLCDM_2//dynesty_resume.pickle\n",
      "/home/czc/opt/miniconda3/envs/icarogw/lib/python3.9/site-packages/dynesty/plotting.py:245: UserWarning: Attempting to set identical bottom == top == 0.0 results in singular transformations; automatically expanding.\n",
      "  axes[i].set_ylim([ymin, ymax])\n"
     ]
    },
    {
     "name": "stdout",
     "output_type": "stream",
     "text": [
      "2443it [20:52,  1.24it/s, bound:69 nc: 35 ncall:4.0e+04 eff:6.1% logz=-1065.77+/-0.15 dlogz:14.202>0.1]"
     ]
    },
    {
     "name": "stderr",
     "output_type": "stream",
     "text": [
      "21:32 bilby INFO    : Written checkpoint file H0_GWTC-3_PBH-lognormal-2nd_flatLCDM_2//dynesty_resume.pickle\n",
      "/home/czc/opt/miniconda3/envs/icarogw/lib/python3.9/site-packages/dynesty/plotting.py:245: UserWarning: Attempting to set identical bottom == top == 0.0 results in singular transformations; automatically expanding.\n",
      "  axes[i].set_ylim([ymin, ymax])\n"
     ]
    },
    {
     "name": "stdout",
     "output_type": "stream",
     "text": [
      "2538it [22:06,  1.28it/s, bound:80 nc: 33 ncall:4.4e+04 eff:5.8% logz=-1064.57+/-0.15 dlogz:12.810>0.1]"
     ]
    },
    {
     "name": "stderr",
     "output_type": "stream",
     "text": [
      "21:33 bilby INFO    : Written checkpoint file H0_GWTC-3_PBH-lognormal-2nd_flatLCDM_2//dynesty_resume.pickle\n",
      "/home/czc/opt/miniconda3/envs/icarogw/lib/python3.9/site-packages/dynesty/plotting.py:245: UserWarning: Attempting to set identical bottom == top == 0.0 results in singular transformations; automatically expanding.\n",
      "  axes[i].set_ylim([ymin, ymax])\n"
     ]
    },
    {
     "name": "stdout",
     "output_type": "stream",
     "text": [
      "2629it [23:21,  1.22it/s, bound:92 nc: 38 ncall:4.7e+04 eff:5.6% logz=-1063.49+/-0.15 dlogz:11.547>0.1]"
     ]
    },
    {
     "name": "stderr",
     "output_type": "stream",
     "text": [
      "21:35 bilby INFO    : Written checkpoint file H0_GWTC-3_PBH-lognormal-2nd_flatLCDM_2//dynesty_resume.pickle\n",
      "/home/czc/opt/miniconda3/envs/icarogw/lib/python3.9/site-packages/dynesty/plotting.py:245: UserWarning: Attempting to set identical bottom == top == 0.0 results in singular transformations; automatically expanding.\n",
      "  axes[i].set_ylim([ymin, ymax])\n"
     ]
    },
    {
     "name": "stdout",
     "output_type": "stream",
     "text": [
      "2717it [24:35,  1.18it/s, bound:103 nc: 34 ncall:5.1e+04 eff:5.4% logz=-1062.58+/-0.15 dlogz:10.462>0.1]"
     ]
    },
    {
     "name": "stderr",
     "output_type": "stream",
     "text": [
      "21:36 bilby INFO    : Written checkpoint file H0_GWTC-3_PBH-lognormal-2nd_flatLCDM_2//dynesty_resume.pickle\n",
      "/home/czc/opt/miniconda3/envs/icarogw/lib/python3.9/site-packages/dynesty/plotting.py:245: UserWarning: Attempting to set identical bottom == top == 0.0 results in singular transformations; automatically expanding.\n",
      "  axes[i].set_ylim([ymin, ymax])\n"
     ]
    },
    {
     "name": "stdout",
     "output_type": "stream",
     "text": [
      "2809it [25:50,  1.19it/s, bound:114 nc: 40 ncall:5.4e+04 eff:5.2% logz=-1061.73+/-0.16 dlogz:9.427>0.1] "
     ]
    },
    {
     "name": "stderr",
     "output_type": "stream",
     "text": [
      "21:37 bilby INFO    : Written checkpoint file H0_GWTC-3_PBH-lognormal-2nd_flatLCDM_2//dynesty_resume.pickle\n",
      "/home/czc/opt/miniconda3/envs/icarogw/lib/python3.9/site-packages/dynesty/plotting.py:245: UserWarning: Attempting to set identical bottom == top == 0.0 results in singular transformations; automatically expanding.\n",
      "  axes[i].set_ylim([ymin, ymax])\n"
     ]
    },
    {
     "name": "stdout",
     "output_type": "stream",
     "text": [
      "2904it [27:07,  1.22it/s, bound:126 nc: 39 ncall:5.8e+04 eff:5.0% logz=-1060.95+/-0.16 dlogz:8.452>0.1]"
     ]
    },
    {
     "name": "stderr",
     "output_type": "stream",
     "text": [
      "21:38 bilby INFO    : Written checkpoint file H0_GWTC-3_PBH-lognormal-2nd_flatLCDM_2//dynesty_resume.pickle\n",
      "/home/czc/opt/miniconda3/envs/icarogw/lib/python3.9/site-packages/dynesty/plotting.py:245: UserWarning: Attempting to set identical bottom == top == 0.0 results in singular transformations; automatically expanding.\n",
      "  axes[i].set_ylim([ymin, ymax])\n"
     ]
    },
    {
     "name": "stdout",
     "output_type": "stream",
     "text": [
      "2995it [28:25,  1.16it/s, bound:138 nc:116 ncall:6.2e+04 eff:4.8% logz=-1060.27+/-0.16 dlogz:7.624>0.1]"
     ]
    },
    {
     "name": "stderr",
     "output_type": "stream",
     "text": [
      "21:40 bilby INFO    : Written checkpoint file H0_GWTC-3_PBH-lognormal-2nd_flatLCDM_2//dynesty_resume.pickle\n",
      "/home/czc/opt/miniconda3/envs/icarogw/lib/python3.9/site-packages/dynesty/plotting.py:245: UserWarning: Attempting to set identical bottom == top == 0.0 results in singular transformations; automatically expanding.\n",
      "  axes[i].set_ylim([ymin, ymax])\n"
     ]
    },
    {
     "name": "stdout",
     "output_type": "stream",
     "text": [
      "3089it [29:42,  1.17it/s, bound:150 nc: 80 ncall:6.6e+04 eff:4.7% logz=-1059.64+/-0.16 dlogz:6.807>0.1]"
     ]
    },
    {
     "name": "stderr",
     "output_type": "stream",
     "text": [
      "21:41 bilby INFO    : Written checkpoint file H0_GWTC-3_PBH-lognormal-2nd_flatLCDM_2//dynesty_resume.pickle\n",
      "/home/czc/opt/miniconda3/envs/icarogw/lib/python3.9/site-packages/dynesty/plotting.py:245: UserWarning: Attempting to set identical bottom == top == 0.0 results in singular transformations; automatically expanding.\n",
      "  axes[i].set_ylim([ymin, ymax])\n"
     ]
    },
    {
     "name": "stdout",
     "output_type": "stream",
     "text": [
      "3182it [31:01,  1.19it/s, bound:162 nc: 40 ncall:6.9e+04 eff:4.6% logz=-1059.10+/-0.16 dlogz:6.077>0.1]"
     ]
    },
    {
     "name": "stderr",
     "output_type": "stream",
     "text": [
      "21:42 bilby INFO    : Written checkpoint file H0_GWTC-3_PBH-lognormal-2nd_flatLCDM_2//dynesty_resume.pickle\n",
      "/home/czc/opt/miniconda3/envs/icarogw/lib/python3.9/site-packages/dynesty/plotting.py:245: UserWarning: Attempting to set identical bottom == top == 0.0 results in singular transformations; automatically expanding.\n",
      "  axes[i].set_ylim([ymin, ymax])\n"
     ]
    },
    {
     "name": "stdout",
     "output_type": "stream",
     "text": [
      "3276it [32:20,  1.17it/s, bound:174 nc: 40 ncall:7.3e+04 eff:4.5% logz=-1058.61+/-0.16 dlogz:5.397>0.1]"
     ]
    },
    {
     "name": "stderr",
     "output_type": "stream",
     "text": [
      "21:44 bilby INFO    : Written checkpoint file H0_GWTC-3_PBH-lognormal-2nd_flatLCDM_2//dynesty_resume.pickle\n",
      "/home/czc/opt/miniconda3/envs/icarogw/lib/python3.9/site-packages/dynesty/plotting.py:245: UserWarning: Attempting to set identical bottom == top == 0.0 results in singular transformations; automatically expanding.\n",
      "  axes[i].set_ylim([ymin, ymax])\n"
     ]
    },
    {
     "name": "stdout",
     "output_type": "stream",
     "text": [
      "3371it [33:37,  1.18it/s, bound:186 nc: 40 ncall:7.7e+04 eff:4.4% logz=-1058.17+/-0.16 dlogz:4.778>0.1]"
     ]
    },
    {
     "name": "stderr",
     "output_type": "stream",
     "text": [
      "21:45 bilby INFO    : Written checkpoint file H0_GWTC-3_PBH-lognormal-2nd_flatLCDM_2//dynesty_resume.pickle\n",
      "/home/czc/opt/miniconda3/envs/icarogw/lib/python3.9/site-packages/dynesty/plotting.py:245: UserWarning: Attempting to set identical bottom == top == 0.0 results in singular transformations; automatically expanding.\n",
      "  axes[i].set_ylim([ymin, ymax])\n"
     ]
    },
    {
     "name": "stdout",
     "output_type": "stream",
     "text": [
      "3464it [34:56,  1.15it/s, bound:198 nc: 40 ncall:8.1e+04 eff:4.3% logz=-1057.78+/-0.16 dlogz:4.203>0.1]"
     ]
    },
    {
     "name": "stderr",
     "output_type": "stream",
     "text": [
      "21:46 bilby INFO    : Written checkpoint file H0_GWTC-3_PBH-lognormal-2nd_flatLCDM_2//dynesty_resume.pickle\n",
      "21:46 bilby INFO    : Writing 103 current samples to H0_GWTC-3_PBH-lognormal-2nd_flatLCDM_2//dynesty_samples.dat\n",
      "/home/czc/opt/miniconda3/envs/icarogw/lib/python3.9/site-packages/dynesty/plotting.py:245: UserWarning: Attempting to set identical bottom == top == 0.0 results in singular transformations; automatically expanding.\n",
      "  axes[i].set_ylim([ymin, ymax])\n"
     ]
    },
    {
     "name": "stdout",
     "output_type": "stream",
     "text": [
      "3553it [36:15,  1.11it/s, bound:210 nc: 40 ncall:8.5e+04 eff:4.2% logz=-1057.44+/-0.16 dlogz:3.699>0.1]"
     ]
    },
    {
     "name": "stderr",
     "output_type": "stream",
     "text": [
      "21:48 bilby INFO    : Written checkpoint file H0_GWTC-3_PBH-lognormal-2nd_flatLCDM_2//dynesty_resume.pickle\n",
      "21:48 bilby INFO    : Writing 120 current samples to H0_GWTC-3_PBH-lognormal-2nd_flatLCDM_2//dynesty_samples.dat\n",
      "/home/czc/opt/miniconda3/envs/icarogw/lib/python3.9/site-packages/dynesty/plotting.py:245: UserWarning: Attempting to set identical bottom == top == 0.0 results in singular transformations; automatically expanding.\n",
      "  axes[i].set_ylim([ymin, ymax])\n"
     ]
    },
    {
     "name": "stdout",
     "output_type": "stream",
     "text": [
      "3647it [37:33,  1.17it/s, bound:222 nc: 40 ncall:8.9e+04 eff:4.1% logz=-1057.15+/-0.16 dlogz:3.230>0.1]"
     ]
    },
    {
     "name": "stderr",
     "output_type": "stream",
     "text": [
      "21:49 bilby INFO    : Written checkpoint file H0_GWTC-3_PBH-lognormal-2nd_flatLCDM_2//dynesty_resume.pickle\n",
      "21:49 bilby INFO    : Writing 164 current samples to H0_GWTC-3_PBH-lognormal-2nd_flatLCDM_2//dynesty_samples.dat\n",
      "/home/czc/opt/miniconda3/envs/icarogw/lib/python3.9/site-packages/dynesty/plotting.py:245: UserWarning: Attempting to set identical bottom == top == 0.0 results in singular transformations; automatically expanding.\n",
      "  axes[i].set_ylim([ymin, ymax])\n"
     ]
    },
    {
     "name": "stdout",
     "output_type": "stream",
     "text": [
      "3739it [38:51,  1.15it/s, bound:234 nc: 40 ncall:9.2e+04 eff:4.0% logz=-1056.88+/-0.16 dlogz:2.804>0.1]"
     ]
    },
    {
     "name": "stderr",
     "output_type": "stream",
     "text": [
      "21:50 bilby INFO    : Written checkpoint file H0_GWTC-3_PBH-lognormal-2nd_flatLCDM_2//dynesty_resume.pickle\n",
      "21:50 bilby INFO    : Writing 171 current samples to H0_GWTC-3_PBH-lognormal-2nd_flatLCDM_2//dynesty_samples.dat\n",
      "/home/czc/opt/miniconda3/envs/icarogw/lib/python3.9/site-packages/dynesty/plotting.py:245: UserWarning: Attempting to set identical bottom == top == 0.0 results in singular transformations; automatically expanding.\n",
      "  axes[i].set_ylim([ymin, ymax])\n"
     ]
    },
    {
     "name": "stdout",
     "output_type": "stream",
     "text": [
      "3830it [40:08,  1.16it/s, bound:246 nc: 40 ncall:9.6e+04 eff:4.0% logz=-1056.65+/-0.16 dlogz:2.425>0.1]"
     ]
    },
    {
     "name": "stderr",
     "output_type": "stream",
     "text": [
      "21:51 bilby INFO    : Written checkpoint file H0_GWTC-3_PBH-lognormal-2nd_flatLCDM_2//dynesty_resume.pickle\n",
      "21:51 bilby INFO    : Writing 217 current samples to H0_GWTC-3_PBH-lognormal-2nd_flatLCDM_2//dynesty_samples.dat\n",
      "/home/czc/opt/miniconda3/envs/icarogw/lib/python3.9/site-packages/dynesty/plotting.py:245: UserWarning: Attempting to set identical bottom == top == 0.0 results in singular transformations; automatically expanding.\n",
      "  axes[i].set_ylim([ymin, ymax])\n"
     ]
    },
    {
     "name": "stdout",
     "output_type": "stream",
     "text": [
      "3919it [41:26,  1.12it/s, bound:257 nc: 40 ncall:1.0e+05 eff:3.9% logz=-1056.46+/-0.16 dlogz:2.090>0.1]"
     ]
    },
    {
     "name": "stderr",
     "output_type": "stream",
     "text": [
      "21:53 bilby INFO    : Written checkpoint file H0_GWTC-3_PBH-lognormal-2nd_flatLCDM_2//dynesty_resume.pickle\n",
      "21:53 bilby INFO    : Writing 263 current samples to H0_GWTC-3_PBH-lognormal-2nd_flatLCDM_2//dynesty_samples.dat\n",
      "/home/czc/opt/miniconda3/envs/icarogw/lib/python3.9/site-packages/dynesty/plotting.py:245: UserWarning: Attempting to set identical bottom == top == 0.0 results in singular transformations; automatically expanding.\n",
      "  axes[i].set_ylim([ymin, ymax])\n"
     ]
    },
    {
     "name": "stdout",
     "output_type": "stream",
     "text": [
      "4011it [42:46,  1.12it/s, bound:269 nc: 40 ncall:1.0e+05 eff:3.9% logz=-1056.28+/-0.16 dlogz:1.782>0.1]"
     ]
    },
    {
     "name": "stderr",
     "output_type": "stream",
     "text": [
      "21:54 bilby INFO    : Written checkpoint file H0_GWTC-3_PBH-lognormal-2nd_flatLCDM_2//dynesty_resume.pickle\n",
      "21:54 bilby INFO    : Writing 318 current samples to H0_GWTC-3_PBH-lognormal-2nd_flatLCDM_2//dynesty_samples.dat\n",
      "/home/czc/opt/miniconda3/envs/icarogw/lib/python3.9/site-packages/dynesty/plotting.py:245: UserWarning: Attempting to set identical bottom == top == 0.0 results in singular transformations; automatically expanding.\n",
      "  axes[i].set_ylim([ymin, ymax])\n"
     ]
    },
    {
     "name": "stdout",
     "output_type": "stream",
     "text": [
      "4103it [44:04,  1.16it/s, bound:281 nc: 40 ncall:1.1e+05 eff:3.8% logz=-1056.13+/-0.16 dlogz:1.522>0.1]"
     ]
    },
    {
     "name": "stderr",
     "output_type": "stream",
     "text": [
      "21:55 bilby INFO    : Written checkpoint file H0_GWTC-3_PBH-lognormal-2nd_flatLCDM_2//dynesty_resume.pickle\n",
      "21:55 bilby INFO    : Writing 377 current samples to H0_GWTC-3_PBH-lognormal-2nd_flatLCDM_2//dynesty_samples.dat\n",
      "/home/czc/opt/miniconda3/envs/icarogw/lib/python3.9/site-packages/dynesty/plotting.py:245: UserWarning: Attempting to set identical bottom == top == 0.0 results in singular transformations; automatically expanding.\n",
      "  axes[i].set_ylim([ymin, ymax])\n"
     ]
    },
    {
     "name": "stdout",
     "output_type": "stream",
     "text": [
      "4191it [45:22,  1.10it/s, bound:293 nc: 40 ncall:1.1e+05 eff:3.8% logz=-1056.00+/-0.16 dlogz:1.294>0.1]"
     ]
    },
    {
     "name": "stderr",
     "output_type": "stream",
     "text": [
      "21:57 bilby INFO    : Written checkpoint file H0_GWTC-3_PBH-lognormal-2nd_flatLCDM_2//dynesty_resume.pickle\n",
      "21:57 bilby INFO    : Writing 467 current samples to H0_GWTC-3_PBH-lognormal-2nd_flatLCDM_2//dynesty_samples.dat\n",
      "/home/czc/opt/miniconda3/envs/icarogw/lib/python3.9/site-packages/dynesty/plotting.py:245: UserWarning: Attempting to set identical bottom == top == 0.0 results in singular transformations; automatically expanding.\n",
      "  axes[i].set_ylim([ymin, ymax])\n"
     ]
    },
    {
     "name": "stdout",
     "output_type": "stream",
     "text": [
      "4286it [46:40,  1.15it/s, bound:305 nc: 40 ncall:1.2e+05 eff:3.7% logz=-1055.89+/-0.16 dlogz:1.090>0.1]"
     ]
    },
    {
     "name": "stderr",
     "output_type": "stream",
     "text": [
      "21:58 bilby INFO    : Written checkpoint file H0_GWTC-3_PBH-lognormal-2nd_flatLCDM_2//dynesty_resume.pickle\n",
      "21:58 bilby INFO    : Writing 522 current samples to H0_GWTC-3_PBH-lognormal-2nd_flatLCDM_2//dynesty_samples.dat\n",
      "/home/czc/opt/miniconda3/envs/icarogw/lib/python3.9/site-packages/dynesty/plotting.py:245: UserWarning: Attempting to set identical bottom == top == 0.0 results in singular transformations; automatically expanding.\n",
      "  axes[i].set_ylim([ymin, ymax])\n"
     ]
    },
    {
     "name": "stdout",
     "output_type": "stream",
     "text": [
      "4377it [47:58,  1.16it/s, bound:317 nc: 40 ncall:1.2e+05 eff:3.7% logz=-1055.79+/-0.16 dlogz:0.913>0.1]"
     ]
    },
    {
     "name": "stderr",
     "output_type": "stream",
     "text": [
      "21:59 bilby INFO    : Written checkpoint file H0_GWTC-3_PBH-lognormal-2nd_flatLCDM_2//dynesty_resume.pickle\n",
      "21:59 bilby INFO    : Writing 622 current samples to H0_GWTC-3_PBH-lognormal-2nd_flatLCDM_2//dynesty_samples.dat\n",
      "/home/czc/opt/miniconda3/envs/icarogw/lib/python3.9/site-packages/dynesty/plotting.py:245: UserWarning: Attempting to set identical bottom == top == 0.0 results in singular transformations; automatically expanding.\n",
      "  axes[i].set_ylim([ymin, ymax])\n"
     ]
    },
    {
     "name": "stdout",
     "output_type": "stream",
     "text": [
      "4469it [49:17,  1.14it/s, bound:329 nc: 40 ncall:1.2e+05 eff:3.6% logz=-1055.70+/-0.17 dlogz:0.762>0.1]"
     ]
    },
    {
     "name": "stderr",
     "output_type": "stream",
     "text": [
      "22:01 bilby INFO    : Written checkpoint file H0_GWTC-3_PBH-lognormal-2nd_flatLCDM_2//dynesty_resume.pickle\n",
      "22:01 bilby INFO    : Writing 758 current samples to H0_GWTC-3_PBH-lognormal-2nd_flatLCDM_2//dynesty_samples.dat\n",
      "/home/czc/opt/miniconda3/envs/icarogw/lib/python3.9/site-packages/dynesty/plotting.py:245: UserWarning: Attempting to set identical bottom == top == 0.0 results in singular transformations; automatically expanding.\n",
      "  axes[i].set_ylim([ymin, ymax])\n"
     ]
    },
    {
     "name": "stdout",
     "output_type": "stream",
     "text": [
      "4563it [50:35,  1.17it/s, bound:341 nc: 40 ncall:1.3e+05 eff:3.6% logz=-1055.62+/-0.17 dlogz:0.630>0.1]"
     ]
    },
    {
     "name": "stderr",
     "output_type": "stream",
     "text": [
      "22:02 bilby INFO    : Written checkpoint file H0_GWTC-3_PBH-lognormal-2nd_flatLCDM_2//dynesty_resume.pickle\n",
      "22:02 bilby INFO    : Writing 875 current samples to H0_GWTC-3_PBH-lognormal-2nd_flatLCDM_2//dynesty_samples.dat\n",
      "/home/czc/opt/miniconda3/envs/icarogw/lib/python3.9/site-packages/dynesty/plotting.py:245: UserWarning: Attempting to set identical bottom == top == 0.0 results in singular transformations; automatically expanding.\n",
      "  axes[i].set_ylim([ymin, ymax])\n"
     ]
    },
    {
     "name": "stdout",
     "output_type": "stream",
     "text": [
      "4651it [51:53,  1.13it/s, bound:353 nc: 40 ncall:1.3e+05 eff:3.6% logz=-1055.56+/-0.17 dlogz:0.525>0.1]"
     ]
    },
    {
     "name": "stderr",
     "output_type": "stream",
     "text": [
      "22:03 bilby INFO    : Written checkpoint file H0_GWTC-3_PBH-lognormal-2nd_flatLCDM_2//dynesty_resume.pickle\n",
      "22:03 bilby INFO    : Writing 1063 current samples to H0_GWTC-3_PBH-lognormal-2nd_flatLCDM_2//dynesty_samples.dat\n",
      "/home/czc/opt/miniconda3/envs/icarogw/lib/python3.9/site-packages/dynesty/plotting.py:245: UserWarning: Attempting to set identical bottom == top == 0.0 results in singular transformations; automatically expanding.\n",
      "  axes[i].set_ylim([ymin, ymax])\n"
     ]
    },
    {
     "name": "stdout",
     "output_type": "stream",
     "text": [
      "4741it [53:11,  1.15it/s, bound:365 nc: 40 ncall:1.3e+05 eff:3.5% logz=-1055.50+/-0.17 dlogz:0.436>0.1]"
     ]
    },
    {
     "name": "stderr",
     "output_type": "stream",
     "text": [
      "22:04 bilby INFO    : Written checkpoint file H0_GWTC-3_PBH-lognormal-2nd_flatLCDM_2//dynesty_resume.pickle\n",
      "22:04 bilby INFO    : Writing 1337 current samples to H0_GWTC-3_PBH-lognormal-2nd_flatLCDM_2//dynesty_samples.dat\n",
      "/home/czc/opt/miniconda3/envs/icarogw/lib/python3.9/site-packages/dynesty/plotting.py:245: UserWarning: Attempting to set identical bottom == top == 0.0 results in singular transformations; automatically expanding.\n",
      "  axes[i].set_ylim([ymin, ymax])\n"
     ]
    },
    {
     "name": "stdout",
     "output_type": "stream",
     "text": [
      "4833it [54:29,  1.15it/s, bound:377 nc: 40 ncall:1.4e+05 eff:3.5% logz=-1055.46+/-0.17 dlogz:0.360>0.1]"
     ]
    },
    {
     "name": "stderr",
     "output_type": "stream",
     "text": [
      "22:06 bilby INFO    : Written checkpoint file H0_GWTC-3_PBH-lognormal-2nd_flatLCDM_2//dynesty_resume.pickle\n",
      "22:06 bilby INFO    : Writing 1514 current samples to H0_GWTC-3_PBH-lognormal-2nd_flatLCDM_2//dynesty_samples.dat\n",
      "/home/czc/opt/miniconda3/envs/icarogw/lib/python3.9/site-packages/dynesty/plotting.py:245: UserWarning: Attempting to set identical bottom == top == 0.0 results in singular transformations; automatically expanding.\n",
      "  axes[i].set_ylim([ymin, ymax])\n"
     ]
    },
    {
     "name": "stdout",
     "output_type": "stream",
     "text": [
      "4924it [55:47,  1.18it/s, bound:389 nc: 40 ncall:1.4e+05 eff:3.5% logz=-1055.41+/-0.17 dlogz:0.297>0.1]"
     ]
    },
    {
     "name": "stderr",
     "output_type": "stream",
     "text": [
      "22:07 bilby INFO    : Written checkpoint file H0_GWTC-3_PBH-lognormal-2nd_flatLCDM_2//dynesty_resume.pickle\n",
      "22:07 bilby INFO    : Writing 1658 current samples to H0_GWTC-3_PBH-lognormal-2nd_flatLCDM_2//dynesty_samples.dat\n",
      "/home/czc/opt/miniconda3/envs/icarogw/lib/python3.9/site-packages/dynesty/plotting.py:245: UserWarning: Attempting to set identical bottom == top == 0.0 results in singular transformations; automatically expanding.\n",
      "  axes[i].set_ylim([ymin, ymax])\n"
     ]
    },
    {
     "name": "stdout",
     "output_type": "stream",
     "text": [
      "5019it [57:05,  1.20it/s, bound:401 nc: 40 ncall:1.5e+05 eff:3.4% logz=-1055.38+/-0.17 dlogz:0.244>0.1]"
     ]
    },
    {
     "name": "stderr",
     "output_type": "stream",
     "text": [
      "22:08 bilby INFO    : Written checkpoint file H0_GWTC-3_PBH-lognormal-2nd_flatLCDM_2//dynesty_resume.pickle\n",
      "22:08 bilby INFO    : Writing 1682 current samples to H0_GWTC-3_PBH-lognormal-2nd_flatLCDM_2//dynesty_samples.dat\n",
      "/home/czc/opt/miniconda3/envs/icarogw/lib/python3.9/site-packages/dynesty/plotting.py:245: UserWarning: Attempting to set identical bottom == top == 0.0 results in singular transformations; automatically expanding.\n",
      "  axes[i].set_ylim([ymin, ymax])\n"
     ]
    },
    {
     "name": "stdout",
     "output_type": "stream",
     "text": [
      "5110it [58:22,  1.16it/s, bound:412 nc: 80 ncall:1.5e+05 eff:3.4% logz=-1055.35+/-0.17 dlogz:0.202>0.1]"
     ]
    },
    {
     "name": "stderr",
     "output_type": "stream",
     "text": [
      "22:10 bilby INFO    : Written checkpoint file H0_GWTC-3_PBH-lognormal-2nd_flatLCDM_2//dynesty_resume.pickle\n",
      "22:10 bilby INFO    : Writing 1673 current samples to H0_GWTC-3_PBH-lognormal-2nd_flatLCDM_2//dynesty_samples.dat\n",
      "/home/czc/opt/miniconda3/envs/icarogw/lib/python3.9/site-packages/dynesty/plotting.py:245: UserWarning: Attempting to set identical bottom == top == 0.0 results in singular transformations; automatically expanding.\n",
      "  axes[i].set_ylim([ymin, ymax])\n"
     ]
    },
    {
     "name": "stdout",
     "output_type": "stream",
     "text": [
      "5203it [59:41,  1.19it/s, bound:424 nc: 40 ncall:1.5e+05 eff:3.4% logz=-1055.32+/-0.17 dlogz:0.166>0.1]"
     ]
    },
    {
     "name": "stderr",
     "output_type": "stream",
     "text": [
      "22:11 bilby INFO    : Written checkpoint file H0_GWTC-3_PBH-lognormal-2nd_flatLCDM_2//dynesty_resume.pickle\n",
      "22:11 bilby INFO    : Writing 1650 current samples to H0_GWTC-3_PBH-lognormal-2nd_flatLCDM_2//dynesty_samples.dat\n",
      "/home/czc/opt/miniconda3/envs/icarogw/lib/python3.9/site-packages/dynesty/plotting.py:245: UserWarning: Attempting to set identical bottom == top == 0.0 results in singular transformations; automatically expanding.\n",
      "  axes[i].set_ylim([ymin, ymax])\n"
     ]
    },
    {
     "name": "stdout",
     "output_type": "stream",
     "text": [
      "5296it [1:00:59,  1.18it/s, bound:436 nc: 40 ncall:1.6e+05 eff:3.4% logz=-1055.30+/-0.17 dlogz:0.137>0.1]"
     ]
    },
    {
     "name": "stderr",
     "output_type": "stream",
     "text": [
      "22:12 bilby INFO    : Written checkpoint file H0_GWTC-3_PBH-lognormal-2nd_flatLCDM_2//dynesty_resume.pickle\n",
      "22:12 bilby INFO    : Writing 1677 current samples to H0_GWTC-3_PBH-lognormal-2nd_flatLCDM_2//dynesty_samples.dat\n",
      "/home/czc/opt/miniconda3/envs/icarogw/lib/python3.9/site-packages/dynesty/plotting.py:245: UserWarning: Attempting to set identical bottom == top == 0.0 results in singular transformations; automatically expanding.\n",
      "  axes[i].set_ylim([ymin, ymax])\n"
     ]
    },
    {
     "name": "stdout",
     "output_type": "stream",
     "text": [
      "5384it [1:02:17,  1.14it/s, bound:448 nc: 40 ncall:1.6e+05 eff:3.3% logz=-1055.28+/-0.17 dlogz:0.114>0.1]"
     ]
    },
    {
     "name": "stderr",
     "output_type": "stream",
     "text": [
      "22:14 bilby INFO    : Written checkpoint file H0_GWTC-3_PBH-lognormal-2nd_flatLCDM_2//dynesty_resume.pickle\n",
      "22:14 bilby INFO    : Writing 1674 current samples to H0_GWTC-3_PBH-lognormal-2nd_flatLCDM_2//dynesty_samples.dat\n",
      "/home/czc/opt/miniconda3/envs/icarogw/lib/python3.9/site-packages/dynesty/plotting.py:245: UserWarning: Attempting to set identical bottom == top == 0.0 results in singular transformations; automatically expanding.\n",
      "  axes[i].set_ylim([ymin, ymax])\n"
     ]
    },
    {
     "name": "stdout",
     "output_type": "stream",
     "text": [
      "5443it [1:03:09,  1.14it/s, bound:456 nc: 80 ncall:1.6e+05 eff:3.3% logz=-1055.27+/-0.17 dlogz:0.101>0.1]"
     ]
    },
    {
     "name": "stderr",
     "output_type": "stream",
     "text": [
      "22:14 bilby INFO    : Written checkpoint file H0_GWTC-3_PBH-lognormal-2nd_flatLCDM_2//dynesty_resume.pickle\n",
      "22:14 bilby INFO    : Writing 1724 current samples to H0_GWTC-3_PBH-lognormal-2nd_flatLCDM_2//dynesty_samples.dat\n",
      "/home/czc/opt/miniconda3/envs/icarogw/lib/python3.9/site-packages/dynesty/plotting.py:245: UserWarning: Attempting to set identical bottom == top == 0.0 results in singular transformations; automatically expanding.\n",
      "  axes[i].set_ylim([ymin, ymax])\n",
      "22:14 bilby INFO    : Starting to close worker pool.\n",
      "22:14 bilby INFO    : Finished closing worker pool.\n"
     ]
    },
    {
     "name": "stdout",
     "output_type": "stream",
     "text": [
      "5448it [1:03:11,  1.44it/s, bound:457 nc:  1 ncall:1.6e+05 eff:3.6% logz=-1055.18+/-0.17 dlogz:0.000>0.1]\n",
      "\n"
     ]
    },
    {
     "name": "stderr",
     "output_type": "stream",
     "text": [
      "22:14 bilby WARNING : Multiple likelihood matches found between sorted and unsorted samples. Taking the first match.\n",
      "22:14 bilby WARNING : Multiple likelihood matches found between sorted and unsorted samples. Taking the first match.\n",
      "22:14 bilby WARNING : Multiple likelihood matches found between sorted and unsorted samples. Taking the first match.\n",
      "22:14 bilby WARNING : Multiple likelihood matches found between sorted and unsorted samples. Taking the first match.\n",
      "22:14 bilby WARNING : Multiple likelihood matches found between sorted and unsorted samples. Taking the first match.\n",
      "22:14 bilby WARNING : Multiple likelihood matches found between sorted and unsorted samples. Taking the first match.\n",
      "22:14 bilby WARNING : Multiple likelihood matches found between sorted and unsorted samples. Taking the first match.\n",
      "22:14 bilby WARNING : Multiple likelihood matches found between sorted and unsorted samples. Taking the first match.\n",
      "22:14 bilby WARNING : Multiple likelihood matches found between sorted and unsorted samples. Taking the first match.\n",
      "22:14 bilby WARNING : Multiple likelihood matches found between sorted and unsorted samples. Taking the first match.\n",
      "22:14 bilby WARNING : Multiple likelihood matches found between sorted and unsorted samples. Taking the first match.\n",
      "22:14 bilby WARNING : Multiple likelihood matches found between sorted and unsorted samples. Taking the first match.\n",
      "22:14 bilby INFO    : Sampling time: 0:57:10.869868\n",
      "22:14 bilby INFO    : Summary of results:\n",
      "nsamples: 5948\n",
      "ln_noise_evidence:    nan\n",
      "ln_evidence: -1055.184 +/-  0.170\n",
      "ln_bayes_factor:    nan +/-  0.170\n",
      "\n"
     ]
    },
    {
     "data": {
      "image/png": "[encoded data removed]",
      "text/plain": [
       "<Figure size 547.2x547.2 with 9 Axes>"
      ]
     },
     "execution_count": 5,
     "metadata": {},
     "output_type": "execute_result"
    }
   ],
   "source": [
    "analysis = hierarchical_analysis2(posterior_dict, injections, fixed_cosmo=True)\n",
    "\n",
    "# Run bilby.  Here we will be using emcee\n",
    "result = analysis.run_bilby(population_model, cosmology_model, prior_dict, nlive=500, nact=2, walks=20,\n",
    "                            outdir=outdir, label='dynesty', npool=32, parallel=2000, check_point_delta_t=60)\n",
    "result.plot_corner()\n"
   ]
  },
  {
   "cell_type": "code",
   "execution_count": null,
   "metadata": {},
   "outputs": [],
   "source": []
  }
 ],
 "metadata": {
  "kernelspec": {
   "display_name": "icarogw",
   "language": "python",
   "name": "icarogw"
  },
  "language_info": {
   "codemirror_mode": {
    "name": "ipython",
    "version": 3
   },
   "file_extension": ".py",
   "mimetype": "text/x-python",
   "name": "python",
   "nbconvert_exporter": "python",
   "pygments_lexer": "ipython3",
   "version": "3.9.2"
  }
 },
 "nbformat": 4,
 "nbformat_minor": 4
}
